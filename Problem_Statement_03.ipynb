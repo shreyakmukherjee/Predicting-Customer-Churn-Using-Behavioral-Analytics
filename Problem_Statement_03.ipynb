{
 "cells": [
  {
   "cell_type": "code",
   "execution_count": 4,
   "id": "f334443e-6214-4bbc-bf86-2b2c24278387",
   "metadata": {},
   "outputs": [
    {
     "data": {
      "text/plain": [
       "'\\nA telecommunications company wants to reduce customer churn by identifying customers at risk of leaving. They have historical data on customer behavior\\nand want to build to predict which customers are most likely to churn.\\n'"
      ]
     },
     "execution_count": 4,
     "metadata": {},
     "output_type": "execute_result"
    }
   ],
   "source": [
    "#Problem Statement\n",
    "'''\n",
    "A telecommunications company wants to reduce customer churn by identifying customers at risk of leaving. They have historical data on customer behavior\n",
    "and want to build to predict which customers are most likely to churn.\n",
    "''' "
   ]
  },
  {
   "cell_type": "code",
   "execution_count": 5,
   "id": "0e0f2c99-afcb-4c96-a492-eaee5d326270",
   "metadata": {},
   "outputs": [
    {
     "name": "stdout",
     "output_type": "stream",
     "text": [
      "     Age  MonthlyCharge  churn\n",
      "0     56            128      0\n",
      "1     69            144      0\n",
      "2     46             44      1\n",
      "3     32             93      0\n",
      "4     60            118      1\n",
      "..   ...            ...    ...\n",
      "995   60             87      0\n",
      "996   64            144      0\n",
      "997   62             60      0\n",
      "998   35             52      1\n",
      "999   55             71      0\n",
      "\n",
      "[1000 rows x 3 columns]\n"
     ]
    },
    {
     "name": "stdin",
     "output_type": "stream",
     "text": [
      "Enter Customer age:  55\n",
      "Enter Monthly_Charge:  22\n"
     ]
    },
    {
     "name": "stdout",
     "output_type": "stream",
     "text": [
      "The customer is likely to stey \n"
     ]
    },
    {
     "name": "stderr",
     "output_type": "stream",
     "text": [
      "C:\\Users\\DELL\\anaconda3\\Lib\\site-packages\\sklearn\\base.py:493: UserWarning: X does not have valid feature names, but SVC was fitted with feature names\n",
      "  warnings.warn(\n"
     ]
    }
   ],
   "source": [
    "import numpy as np\n",
    "import pandas as pd\n",
    "from sklearn.model_selection import train_test_split\n",
    "from sklearn.svm import SVC #Support Vector Classifier\n",
    "from sklearn.metrics import accuracy_score, classification_report\n",
    "\n",
    "#data = {'Age': [30,25,35,20,40,55,32,28], 'MonthlyCharge': [50,60,80,40,100,120,70,55], 'churn': [0,1,0,1,0,1,0,1]}\n",
    "\n",
    "# Generate synthetic data\n",
    "np.random.seed(42)  # For reproducibility\n",
    "\n",
    "# Number of records\n",
    "n = 1000\n",
    "\n",
    "# Randomly generate ages between 18 and 70\n",
    "ages = np.random.randint(18, 70, n)\n",
    "\n",
    "# Randomly generate monthly charges between $30 and $150\n",
    "monthly_charges = np.random.randint(30, 150, n)\n",
    "\n",
    "# Randomly assign churn: 0 for staying, 1 for churning\n",
    "churn = np.random.choice([0, 1], n, p=[0.7, 0.3])  # Assuming 30% churn rate\n",
    "\n",
    "data = {\n",
    "    'Age': ages,\n",
    "    'MonthlyCharge': monthly_charges,\n",
    "    'churn': churn\n",
    "}\n",
    "\n",
    "df = pd.DataFrame(data)\n",
    "print(df)\n",
    "\n",
    "X = df[['Age','MonthlyCharge']]\n",
    "y = df[['churn']]\n",
    "\n",
    "X_train, X_test, y_train, y_test = train_test_split(X, y, test_size = 0.2, random_state=42)\n",
    "\n",
    "svc_model = SVC(kernel= 'linear', C=1.0) #default regularization\n",
    "\n",
    "svc_model.fit(X_train, y_train.values.flatten())\n",
    "\n",
    "y_pred = svc_model.predict(X_test)\n",
    "\n",
    "# accuracy = accuracy_score(y_test,y_pred)\n",
    "\n",
    "# report = classification_report(y_test, y_pred)\n",
    "\n",
    "user_age = float(input(\"Enter Customer age: \"));\n",
    "user_monthly_charge = float(input(\"Enter Monthly_Charge: \"));\n",
    "user_input = np.array([[user_age, user_monthly_charge]])\n",
    "\n",
    "prediction = svc_model.predict(user_input)\n",
    "\n",
    "if(prediction [0] == 0):\n",
    "    print(\"The customer is likely to stey \")\n",
    "else:\n",
    "    print(\"The Customer is at risk of churning\")"
   ]
  },
  {
   "cell_type": "code",
   "execution_count": null,
   "id": "c667f2ae-952d-41e1-a4ff-2a24180cb7a0",
   "metadata": {},
   "outputs": [],
   "source": []
  },
  {
   "cell_type": "code",
   "execution_count": null,
   "id": "2884c7f1-3d19-4dd9-ba2b-298e70ac3ff7",
   "metadata": {},
   "outputs": [],
   "source": []
  }
 ],
 "metadata": {
  "kernelspec": {
   "display_name": "Python 3 (ipykernel)",
   "language": "python",
   "name": "python3"
  },
  "language_info": {
   "codemirror_mode": {
    "name": "ipython",
    "version": 3
   },
   "file_extension": ".py",
   "mimetype": "text/x-python",
   "name": "python",
   "nbconvert_exporter": "python",
   "pygments_lexer": "ipython3",
   "version": "3.12.4"
  }
 },
 "nbformat": 4,
 "nbformat_minor": 5
}
